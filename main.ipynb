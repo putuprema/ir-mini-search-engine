{
 "cells": [
  {
   "source": [
    "# Information Retrieval Project - Mini Document Search Engine\n",
    "\n",
    "**Class: LB01**\n",
    "\n",
    "1. Juan Sebastian Veron - 2201754311\n",
    "2. Muhammad Alvito Kuntjoro - 2201788073\n",
    "3. I Putu Prema Ananda D.N - 2201785001\n",
    "4. Naxwell Fladico - 2201791282\n",
    "5. Calvin Tantry - 2201749551\n",
    "\n",
    "In this project, we are going to build a mini document search engine using simple TF-IDF and document ranking with Cosine Similarity. The dataset consist of 2 categories: Medical & Technology."
   ],
   "cell_type": "markdown",
   "metadata": {}
  },
  {
   "cell_type": "code",
   "execution_count": 107,
   "metadata": {},
   "outputs": [],
   "source": [
    "import pandas as pd\n",
    "import nltk\n",
    "from nltk.tokenize import word_tokenize\n",
    "from nltk.corpus import stopwords\n",
    "import re\n",
    "import string\n",
    "from collections import Counter\n",
    "import numpy as np"
   ]
  },
  {
   "cell_type": "markdown",
   "metadata": {},
   "source": [
    "# I.  Medical Dataset"
   ]
  },
  {
   "cell_type": "code",
   "execution_count": 8,
   "metadata": {},
   "outputs": [
    {
     "output_type": "execute_result",
     "data": {
      "text/plain": [
       "                                                   body  \\\n",
       "0     New York Mayor Bill de Blasio is among those q...   \n",
       "1     A second patient has died of the COVID-19 viru...   \n",
       "2     England will formally register COVID-19, a dis...   \n",
       "3     Members of the Los Angeles Lakers are under qu...   \n",
       "4     Social media is awash with myths about how peo...   \n",
       "...                                                 ...   \n",
       "1004  As thousands of fans queued to get into the Au...   \n",
       "1005  Seven weeks after the first case of COVID-19 w...   \n",
       "1006  The government has a palette of options it can...   \n",
       "1007  Millions of face masks stockpiled by Ontario i...   \n",
       "1008  I was out to dinner in the medieval city of Pa...   \n",
       "\n",
       "                                      preprocessed_body  \n",
       "0     New York Mayor Bill de Blasio is among those q...  \n",
       "1     A second patient has died of the COVID-19 viru...  \n",
       "2     England will formally register COVID-19, a dis...  \n",
       "3     Members of the Los Angeles Lakers are under qu...  \n",
       "4     Social media is awash with myths about how peo...  \n",
       "...                                                 ...  \n",
       "1004  As thousands of fans queued to get into the Au...  \n",
       "1005  Seven weeks after the first case of COVID-19 w...  \n",
       "1006  The government has a palette of options it can...  \n",
       "1007  Millions of face masks stockpiled by Ontario i...  \n",
       "1008  I was out to dinner in the medieval city of Pa...  \n",
       "\n",
       "[1009 rows x 2 columns]"
      ],
      "text/html": "<div>\n<style scoped>\n    .dataframe tbody tr th:only-of-type {\n        vertical-align: middle;\n    }\n\n    .dataframe tbody tr th {\n        vertical-align: top;\n    }\n\n    .dataframe thead th {\n        text-align: right;\n    }\n</style>\n<table border=\"1\" class=\"dataframe\">\n  <thead>\n    <tr style=\"text-align: right;\">\n      <th></th>\n      <th>body</th>\n      <th>preprocessed_body</th>\n    </tr>\n  </thead>\n  <tbody>\n    <tr>\n      <th>0</th>\n      <td>New York Mayor Bill de Blasio is among those q...</td>\n      <td>New York Mayor Bill de Blasio is among those q...</td>\n    </tr>\n    <tr>\n      <th>1</th>\n      <td>A second patient has died of the COVID-19 viru...</td>\n      <td>A second patient has died of the COVID-19 viru...</td>\n    </tr>\n    <tr>\n      <th>2</th>\n      <td>England will formally register COVID-19, a dis...</td>\n      <td>England will formally register COVID-19, a dis...</td>\n    </tr>\n    <tr>\n      <th>3</th>\n      <td>Members of the Los Angeles Lakers are under qu...</td>\n      <td>Members of the Los Angeles Lakers are under qu...</td>\n    </tr>\n    <tr>\n      <th>4</th>\n      <td>Social media is awash with myths about how peo...</td>\n      <td>Social media is awash with myths about how peo...</td>\n    </tr>\n    <tr>\n      <th>...</th>\n      <td>...</td>\n      <td>...</td>\n    </tr>\n    <tr>\n      <th>1004</th>\n      <td>As thousands of fans queued to get into the Au...</td>\n      <td>As thousands of fans queued to get into the Au...</td>\n    </tr>\n    <tr>\n      <th>1005</th>\n      <td>Seven weeks after the first case of COVID-19 w...</td>\n      <td>Seven weeks after the first case of COVID-19 w...</td>\n    </tr>\n    <tr>\n      <th>1006</th>\n      <td>The government has a palette of options it can...</td>\n      <td>The government has a palette of options it can...</td>\n    </tr>\n    <tr>\n      <th>1007</th>\n      <td>Millions of face masks stockpiled by Ontario i...</td>\n      <td>Millions of face masks stockpiled by Ontario i...</td>\n    </tr>\n    <tr>\n      <th>1008</th>\n      <td>I was out to dinner in the medieval city of Pa...</td>\n      <td>I was out to dinner in the medieval city of Pa...</td>\n    </tr>\n  </tbody>\n</table>\n<p>1009 rows × 2 columns</p>\n</div>"
     },
     "metadata": {},
     "execution_count": 8
    }
   ],
   "source": [
    "medical_dataset = pd.read_csv('corona_dataset.csv')\n",
    "medical_dataset = pd.DataFrame(medical_dataset)\n",
    "medical_dataset = medical_dataset.drop(['Unnamed: 0','Unnamed: 0.1','category','source','date','title'], axis = 1)\n",
    "medical_dataset = medical_dataset.dropna()\n",
    "medical_dataset['preprocessed_body'] = medical_dataset['body']\n",
    "medical_dataset"
   ]
  },
  {
   "cell_type": "markdown",
   "metadata": {},
   "source": [
    "# Preprocessing"
   ]
  },
  {
   "cell_type": "markdown",
   "metadata": {},
   "source": [
    "# a. Lowercase"
   ]
  },
  {
   "cell_type": "code",
   "execution_count": 9,
   "metadata": {},
   "outputs": [
    {
     "output_type": "execute_result",
     "data": {
      "text/plain": [
       "                                                   body  \\\n",
       "0     New York Mayor Bill de Blasio is among those q...   \n",
       "1     A second patient has died of the COVID-19 viru...   \n",
       "2     England will formally register COVID-19, a dis...   \n",
       "3     Members of the Los Angeles Lakers are under qu...   \n",
       "4     Social media is awash with myths about how peo...   \n",
       "...                                                 ...   \n",
       "1004  As thousands of fans queued to get into the Au...   \n",
       "1005  Seven weeks after the first case of COVID-19 w...   \n",
       "1006  The government has a palette of options it can...   \n",
       "1007  Millions of face masks stockpiled by Ontario i...   \n",
       "1008  I was out to dinner in the medieval city of Pa...   \n",
       "\n",
       "                                      preprocessed_body  \n",
       "0     new york mayor bill de blasio is among those q...  \n",
       "1     a second patient has died of the covid-19 viru...  \n",
       "2     england will formally register covid-19, a dis...  \n",
       "3     members of the los angeles lakers are under qu...  \n",
       "4     social media is awash with myths about how peo...  \n",
       "...                                                 ...  \n",
       "1004  as thousands of fans queued to get into the au...  \n",
       "1005  seven weeks after the first case of covid-19 w...  \n",
       "1006  the government has a palette of options it can...  \n",
       "1007  millions of face masks stockpiled by ontario i...  \n",
       "1008  i was out to dinner in the medieval city of pa...  \n",
       "\n",
       "[1009 rows x 2 columns]"
      ],
      "text/html": "<div>\n<style scoped>\n    .dataframe tbody tr th:only-of-type {\n        vertical-align: middle;\n    }\n\n    .dataframe tbody tr th {\n        vertical-align: top;\n    }\n\n    .dataframe thead th {\n        text-align: right;\n    }\n</style>\n<table border=\"1\" class=\"dataframe\">\n  <thead>\n    <tr style=\"text-align: right;\">\n      <th></th>\n      <th>body</th>\n      <th>preprocessed_body</th>\n    </tr>\n  </thead>\n  <tbody>\n    <tr>\n      <th>0</th>\n      <td>New York Mayor Bill de Blasio is among those q...</td>\n      <td>new york mayor bill de blasio is among those q...</td>\n    </tr>\n    <tr>\n      <th>1</th>\n      <td>A second patient has died of the COVID-19 viru...</td>\n      <td>a second patient has died of the covid-19 viru...</td>\n    </tr>\n    <tr>\n      <th>2</th>\n      <td>England will formally register COVID-19, a dis...</td>\n      <td>england will formally register covid-19, a dis...</td>\n    </tr>\n    <tr>\n      <th>3</th>\n      <td>Members of the Los Angeles Lakers are under qu...</td>\n      <td>members of the los angeles lakers are under qu...</td>\n    </tr>\n    <tr>\n      <th>4</th>\n      <td>Social media is awash with myths about how peo...</td>\n      <td>social media is awash with myths about how peo...</td>\n    </tr>\n    <tr>\n      <th>...</th>\n      <td>...</td>\n      <td>...</td>\n    </tr>\n    <tr>\n      <th>1004</th>\n      <td>As thousands of fans queued to get into the Au...</td>\n      <td>as thousands of fans queued to get into the au...</td>\n    </tr>\n    <tr>\n      <th>1005</th>\n      <td>Seven weeks after the first case of COVID-19 w...</td>\n      <td>seven weeks after the first case of covid-19 w...</td>\n    </tr>\n    <tr>\n      <th>1006</th>\n      <td>The government has a palette of options it can...</td>\n      <td>the government has a palette of options it can...</td>\n    </tr>\n    <tr>\n      <th>1007</th>\n      <td>Millions of face masks stockpiled by Ontario i...</td>\n      <td>millions of face masks stockpiled by ontario i...</td>\n    </tr>\n    <tr>\n      <th>1008</th>\n      <td>I was out to dinner in the medieval city of Pa...</td>\n      <td>i was out to dinner in the medieval city of pa...</td>\n    </tr>\n  </tbody>\n</table>\n<p>1009 rows × 2 columns</p>\n</div>"
     },
     "metadata": {},
     "execution_count": 9
    }
   ],
   "source": [
    "medical_dataset['preprocessed_body'] = medical_dataset['preprocessed_body'].astype(str).str.lower()\n",
    "medical_dataset['preprocessed_body']\n",
    "\n",
    "medical_dataset"
   ]
  },
  {
   "cell_type": "markdown",
   "metadata": {},
   "source": [
    "# b. Number and Punctuation removal"
   ]
  },
  {
   "cell_type": "code",
   "execution_count": 10,
   "metadata": {},
   "outputs": [
    {
     "output_type": "execute_result",
     "data": {
      "text/plain": [
       "                                                   body  \\\n",
       "0     New York Mayor Bill de Blasio is among those q...   \n",
       "1     A second patient has died of the COVID-19 viru...   \n",
       "2     England will formally register COVID-19, a dis...   \n",
       "3     Members of the Los Angeles Lakers are under qu...   \n",
       "4     Social media is awash with myths about how peo...   \n",
       "...                                                 ...   \n",
       "1004  As thousands of fans queued to get into the Au...   \n",
       "1005  Seven weeks after the first case of COVID-19 w...   \n",
       "1006  The government has a palette of options it can...   \n",
       "1007  Millions of face masks stockpiled by Ontario i...   \n",
       "1008  I was out to dinner in the medieval city of Pa...   \n",
       "\n",
       "                                      preprocessed_body  \n",
       "0     new york mayor bill de blasio is among those q...  \n",
       "1     a second patient has died of the covid virus i...  \n",
       "2     england will formally register covid a disease...  \n",
       "3     members of the los angeles lakers are under qu...  \n",
       "4     social media is awash with myths about how peo...  \n",
       "...                                                 ...  \n",
       "1004  as thousands of fans queued to get into the au...  \n",
       "1005  seven weeks after the first case of covid was ...  \n",
       "1006  the government has a palette of options it can...  \n",
       "1007  millions of face masks stockpiled by ontario i...  \n",
       "1008  i was out to dinner in the medieval city of pa...  \n",
       "\n",
       "[1009 rows x 2 columns]"
      ],
      "text/html": "<div>\n<style scoped>\n    .dataframe tbody tr th:only-of-type {\n        vertical-align: middle;\n    }\n\n    .dataframe tbody tr th {\n        vertical-align: top;\n    }\n\n    .dataframe thead th {\n        text-align: right;\n    }\n</style>\n<table border=\"1\" class=\"dataframe\">\n  <thead>\n    <tr style=\"text-align: right;\">\n      <th></th>\n      <th>body</th>\n      <th>preprocessed_body</th>\n    </tr>\n  </thead>\n  <tbody>\n    <tr>\n      <th>0</th>\n      <td>New York Mayor Bill de Blasio is among those q...</td>\n      <td>new york mayor bill de blasio is among those q...</td>\n    </tr>\n    <tr>\n      <th>1</th>\n      <td>A second patient has died of the COVID-19 viru...</td>\n      <td>a second patient has died of the covid virus i...</td>\n    </tr>\n    <tr>\n      <th>2</th>\n      <td>England will formally register COVID-19, a dis...</td>\n      <td>england will formally register covid a disease...</td>\n    </tr>\n    <tr>\n      <th>3</th>\n      <td>Members of the Los Angeles Lakers are under qu...</td>\n      <td>members of the los angeles lakers are under qu...</td>\n    </tr>\n    <tr>\n      <th>4</th>\n      <td>Social media is awash with myths about how peo...</td>\n      <td>social media is awash with myths about how peo...</td>\n    </tr>\n    <tr>\n      <th>...</th>\n      <td>...</td>\n      <td>...</td>\n    </tr>\n    <tr>\n      <th>1004</th>\n      <td>As thousands of fans queued to get into the Au...</td>\n      <td>as thousands of fans queued to get into the au...</td>\n    </tr>\n    <tr>\n      <th>1005</th>\n      <td>Seven weeks after the first case of COVID-19 w...</td>\n      <td>seven weeks after the first case of covid was ...</td>\n    </tr>\n    <tr>\n      <th>1006</th>\n      <td>The government has a palette of options it can...</td>\n      <td>the government has a palette of options it can...</td>\n    </tr>\n    <tr>\n      <th>1007</th>\n      <td>Millions of face masks stockpiled by Ontario i...</td>\n      <td>millions of face masks stockpiled by ontario i...</td>\n    </tr>\n    <tr>\n      <th>1008</th>\n      <td>I was out to dinner in the medieval city of Pa...</td>\n      <td>i was out to dinner in the medieval city of pa...</td>\n    </tr>\n  </tbody>\n</table>\n<p>1009 rows × 2 columns</p>\n</div>"
     },
     "metadata": {},
     "execution_count": 10
    }
   ],
   "source": [
    "medical_dataset['preprocessed_body'] = medical_dataset['preprocessed_body'].str.replace('[^\\w\\s]','')\n",
    "medical_dataset['preprocessed_body'] = medical_dataset['preprocessed_body'].str.replace('[0-9]','')\n",
    "medical_dataset"
   ]
  },
  {
   "cell_type": "markdown",
   "metadata": {},
   "source": [
    "# c. Stop Word Removal"
   ]
  },
  {
   "cell_type": "code",
   "execution_count": 11,
   "metadata": {},
   "outputs": [],
   "source": [
    "stop_words = set(stopwords.words('english'))\n",
    "medical_dataset['preprocessed_body']= medical_dataset.apply(lambda row: nltk.word_tokenize(row['preprocessed_body']), axis=1)\n",
    "medical_dataset['preprocessed_body'] = medical_dataset['preprocessed_body'].apply(lambda x: ' '.join([word for word in x if word not in (stop_words)]))"
   ]
  },
  {
   "cell_type": "markdown",
   "metadata": {},
   "source": [
    "# d. Preprocessed Dataset"
   ]
  },
  {
   "cell_type": "code",
   "execution_count": 12,
   "metadata": {},
   "outputs": [
    {
     "output_type": "execute_result",
     "data": {
      "text/plain": [
       "                                                   body  \\\n",
       "0     New York Mayor Bill de Blasio is among those q...   \n",
       "1     A second patient has died of the COVID-19 viru...   \n",
       "2     England will formally register COVID-19, a dis...   \n",
       "3     Members of the Los Angeles Lakers are under qu...   \n",
       "4     Social media is awash with myths about how peo...   \n",
       "...                                                 ...   \n",
       "1004  As thousands of fans queued to get into the Au...   \n",
       "1005  Seven weeks after the first case of COVID-19 w...   \n",
       "1006  The government has a palette of options it can...   \n",
       "1007  Millions of face masks stockpiled by Ontario i...   \n",
       "1008  I was out to dinner in the medieval city of Pa...   \n",
       "\n",
       "                                      preprocessed_body  \n",
       "0     new york mayor bill de blasio among questionin...  \n",
       "1     second patient died covid virus ireland total ...  \n",
       "2     england formally register covid disease caused...  \n",
       "3     members los angeles lakers quarantine days tes...  \n",
       "4     social media awash myths people might stop new...  \n",
       "...                                                 ...  \n",
       "1004  thousands fans queued get australian grand pri...  \n",
       "1005           seven weeks first case covid confirmed u  \n",
       "1006  government palette options use shore economy i...  \n",
       "1007  millions face masks stockpiled ontario afterma...  \n",
       "1008  dinner medieval city padua text messages phone...  \n",
       "\n",
       "[1009 rows x 2 columns]"
      ],
      "text/html": "<div>\n<style scoped>\n    .dataframe tbody tr th:only-of-type {\n        vertical-align: middle;\n    }\n\n    .dataframe tbody tr th {\n        vertical-align: top;\n    }\n\n    .dataframe thead th {\n        text-align: right;\n    }\n</style>\n<table border=\"1\" class=\"dataframe\">\n  <thead>\n    <tr style=\"text-align: right;\">\n      <th></th>\n      <th>body</th>\n      <th>preprocessed_body</th>\n    </tr>\n  </thead>\n  <tbody>\n    <tr>\n      <th>0</th>\n      <td>New York Mayor Bill de Blasio is among those q...</td>\n      <td>new york mayor bill de blasio among questionin...</td>\n    </tr>\n    <tr>\n      <th>1</th>\n      <td>A second patient has died of the COVID-19 viru...</td>\n      <td>second patient died covid virus ireland total ...</td>\n    </tr>\n    <tr>\n      <th>2</th>\n      <td>England will formally register COVID-19, a dis...</td>\n      <td>england formally register covid disease caused...</td>\n    </tr>\n    <tr>\n      <th>3</th>\n      <td>Members of the Los Angeles Lakers are under qu...</td>\n      <td>members los angeles lakers quarantine days tes...</td>\n    </tr>\n    <tr>\n      <th>4</th>\n      <td>Social media is awash with myths about how peo...</td>\n      <td>social media awash myths people might stop new...</td>\n    </tr>\n    <tr>\n      <th>...</th>\n      <td>...</td>\n      <td>...</td>\n    </tr>\n    <tr>\n      <th>1004</th>\n      <td>As thousands of fans queued to get into the Au...</td>\n      <td>thousands fans queued get australian grand pri...</td>\n    </tr>\n    <tr>\n      <th>1005</th>\n      <td>Seven weeks after the first case of COVID-19 w...</td>\n      <td>seven weeks first case covid confirmed u</td>\n    </tr>\n    <tr>\n      <th>1006</th>\n      <td>The government has a palette of options it can...</td>\n      <td>government palette options use shore economy i...</td>\n    </tr>\n    <tr>\n      <th>1007</th>\n      <td>Millions of face masks stockpiled by Ontario i...</td>\n      <td>millions face masks stockpiled ontario afterma...</td>\n    </tr>\n    <tr>\n      <th>1008</th>\n      <td>I was out to dinner in the medieval city of Pa...</td>\n      <td>dinner medieval city padua text messages phone...</td>\n    </tr>\n  </tbody>\n</table>\n<p>1009 rows × 2 columns</p>\n</div>"
     },
     "metadata": {},
     "execution_count": 12
    }
   ],
   "source": [
    "medical_dataset"
   ]
  },
  {
   "cell_type": "markdown",
   "metadata": {},
   "source": [
    "# II. Technology Dataset"
   ]
  },
  {
   "cell_type": "code",
   "execution_count": 13,
   "metadata": {},
   "outputs": [],
   "source": [
    "technology_dataset = pd.read_csv('CSV_sampleDataset_DataAnalyticsTrack.csv')"
   ]
  },
  {
   "cell_type": "code",
   "execution_count": 14,
   "metadata": {},
   "outputs": [],
   "source": [
    "technology_dataset = technology_dataset.drop('Unnamed: 0', 1)\n",
    "technology_dataset = technology_dataset.drop('articleId',1)\n",
    "technology_dataset.columns = ['body']\n",
    "technology_dataset['preprocessed_body'] = technology_dataset['body']"
   ]
  },
  {
   "cell_type": "code",
   "execution_count": 15,
   "metadata": {},
   "outputs": [
    {
     "output_type": "execute_result",
     "data": {
      "text/plain": [
       "                                                   body  \\\n",
       "0     Finding an off-the-shelf processor that is an ...   \n",
       "1     SAN JOSE, Calif. — Fresh details have emerged ...   \n",
       "2     AUSTIN, Texas — The effort to develop a 157-nm...   \n",
       "3     The following sources offer additional informa...   \n",
       "4     As embedded systems and the microprocessor cor...   \n",
       "...                                                 ...   \n",
       "4995  Scottsdale, Ariz. — NKK Switches offers a new ...   \n",
       "4996  Lisle, Ill. — A new range of 0.95-mm height Sl...   \n",
       "4997  El Segundo, Calif. – International Rectifier's...   \n",
       "4998  A handful of vendors banned together to addres...   \n",
       "4999  TOKYO — Japanese chip making equipment vendor ...   \n",
       "\n",
       "                                      preprocessed_body  \n",
       "0     Finding an off-the-shelf processor that is an ...  \n",
       "1     SAN JOSE, Calif. — Fresh details have emerged ...  \n",
       "2     AUSTIN, Texas — The effort to develop a 157-nm...  \n",
       "3     The following sources offer additional informa...  \n",
       "4     As embedded systems and the microprocessor cor...  \n",
       "...                                                 ...  \n",
       "4995  Scottsdale, Ariz. — NKK Switches offers a new ...  \n",
       "4996  Lisle, Ill. — A new range of 0.95-mm height Sl...  \n",
       "4997  El Segundo, Calif. – International Rectifier's...  \n",
       "4998  A handful of vendors banned together to addres...  \n",
       "4999  TOKYO — Japanese chip making equipment vendor ...  \n",
       "\n",
       "[5000 rows x 2 columns]"
      ],
      "text/html": "<div>\n<style scoped>\n    .dataframe tbody tr th:only-of-type {\n        vertical-align: middle;\n    }\n\n    .dataframe tbody tr th {\n        vertical-align: top;\n    }\n\n    .dataframe thead th {\n        text-align: right;\n    }\n</style>\n<table border=\"1\" class=\"dataframe\">\n  <thead>\n    <tr style=\"text-align: right;\">\n      <th></th>\n      <th>body</th>\n      <th>preprocessed_body</th>\n    </tr>\n  </thead>\n  <tbody>\n    <tr>\n      <th>0</th>\n      <td>Finding an off-the-shelf processor that is an ...</td>\n      <td>Finding an off-the-shelf processor that is an ...</td>\n    </tr>\n    <tr>\n      <th>1</th>\n      <td>SAN JOSE, Calif. — Fresh details have emerged ...</td>\n      <td>SAN JOSE, Calif. — Fresh details have emerged ...</td>\n    </tr>\n    <tr>\n      <th>2</th>\n      <td>AUSTIN, Texas — The effort to develop a 157-nm...</td>\n      <td>AUSTIN, Texas — The effort to develop a 157-nm...</td>\n    </tr>\n    <tr>\n      <th>3</th>\n      <td>The following sources offer additional informa...</td>\n      <td>The following sources offer additional informa...</td>\n    </tr>\n    <tr>\n      <th>4</th>\n      <td>As embedded systems and the microprocessor cor...</td>\n      <td>As embedded systems and the microprocessor cor...</td>\n    </tr>\n    <tr>\n      <th>...</th>\n      <td>...</td>\n      <td>...</td>\n    </tr>\n    <tr>\n      <th>4995</th>\n      <td>Scottsdale, Ariz. — NKK Switches offers a new ...</td>\n      <td>Scottsdale, Ariz. — NKK Switches offers a new ...</td>\n    </tr>\n    <tr>\n      <th>4996</th>\n      <td>Lisle, Ill. — A new range of 0.95-mm height Sl...</td>\n      <td>Lisle, Ill. — A new range of 0.95-mm height Sl...</td>\n    </tr>\n    <tr>\n      <th>4997</th>\n      <td>El Segundo, Calif. – International Rectifier's...</td>\n      <td>El Segundo, Calif. – International Rectifier's...</td>\n    </tr>\n    <tr>\n      <th>4998</th>\n      <td>A handful of vendors banned together to addres...</td>\n      <td>A handful of vendors banned together to addres...</td>\n    </tr>\n    <tr>\n      <th>4999</th>\n      <td>TOKYO — Japanese chip making equipment vendor ...</td>\n      <td>TOKYO — Japanese chip making equipment vendor ...</td>\n    </tr>\n  </tbody>\n</table>\n<p>5000 rows × 2 columns</p>\n</div>"
     },
     "metadata": {},
     "execution_count": 15
    }
   ],
   "source": [
    "technology_dataset"
   ]
  },
  {
   "cell_type": "code",
   "execution_count": 16,
   "metadata": {},
   "outputs": [],
   "source": [
    "for i in range(len(technology_dataset)):\n",
    "    technology_dataset['preprocessed_body'][i] = str(technology_dataset['preprocessed_body'][i])"
   ]
  },
  {
   "cell_type": "code",
   "execution_count": 17,
   "metadata": {},
   "outputs": [
    {
     "output_type": "execute_result",
     "data": {
      "text/plain": [
       "                                                   body  \\\n",
       "0     Finding an off-the-shelf processor that is an ...   \n",
       "1     SAN JOSE, Calif. — Fresh details have emerged ...   \n",
       "2     AUSTIN, Texas — The effort to develop a 157-nm...   \n",
       "3     The following sources offer additional informa...   \n",
       "4     As embedded systems and the microprocessor cor...   \n",
       "...                                                 ...   \n",
       "4995  Scottsdale, Ariz. — NKK Switches offers a new ...   \n",
       "4996  Lisle, Ill. — A new range of 0.95-mm height Sl...   \n",
       "4997  El Segundo, Calif. – International Rectifier's...   \n",
       "4998  A handful of vendors banned together to addres...   \n",
       "4999  TOKYO — Japanese chip making equipment vendor ...   \n",
       "\n",
       "                                      preprocessed_body  \n",
       "0     finding an off-the-shelf processor that is an ...  \n",
       "1     san jose, calif. — fresh details have emerged ...  \n",
       "2     austin, texas — the effort to develop a 157-nm...  \n",
       "3     the following sources offer additional informa...  \n",
       "4     as embedded systems and the microprocessor cor...  \n",
       "...                                                 ...  \n",
       "4995  scottsdale, ariz. — nkk switches offers a new ...  \n",
       "4996  lisle, ill. — a new range of 0.95-mm height sl...  \n",
       "4997  el segundo, calif. – international rectifier's...  \n",
       "4998  a handful of vendors banned together to addres...  \n",
       "4999  tokyo — japanese chip making equipment vendor ...  \n",
       "\n",
       "[5000 rows x 2 columns]"
      ],
      "text/html": "<div>\n<style scoped>\n    .dataframe tbody tr th:only-of-type {\n        vertical-align: middle;\n    }\n\n    .dataframe tbody tr th {\n        vertical-align: top;\n    }\n\n    .dataframe thead th {\n        text-align: right;\n    }\n</style>\n<table border=\"1\" class=\"dataframe\">\n  <thead>\n    <tr style=\"text-align: right;\">\n      <th></th>\n      <th>body</th>\n      <th>preprocessed_body</th>\n    </tr>\n  </thead>\n  <tbody>\n    <tr>\n      <th>0</th>\n      <td>Finding an off-the-shelf processor that is an ...</td>\n      <td>finding an off-the-shelf processor that is an ...</td>\n    </tr>\n    <tr>\n      <th>1</th>\n      <td>SAN JOSE, Calif. — Fresh details have emerged ...</td>\n      <td>san jose, calif. — fresh details have emerged ...</td>\n    </tr>\n    <tr>\n      <th>2</th>\n      <td>AUSTIN, Texas — The effort to develop a 157-nm...</td>\n      <td>austin, texas — the effort to develop a 157-nm...</td>\n    </tr>\n    <tr>\n      <th>3</th>\n      <td>The following sources offer additional informa...</td>\n      <td>the following sources offer additional informa...</td>\n    </tr>\n    <tr>\n      <th>4</th>\n      <td>As embedded systems and the microprocessor cor...</td>\n      <td>as embedded systems and the microprocessor cor...</td>\n    </tr>\n    <tr>\n      <th>...</th>\n      <td>...</td>\n      <td>...</td>\n    </tr>\n    <tr>\n      <th>4995</th>\n      <td>Scottsdale, Ariz. — NKK Switches offers a new ...</td>\n      <td>scottsdale, ariz. — nkk switches offers a new ...</td>\n    </tr>\n    <tr>\n      <th>4996</th>\n      <td>Lisle, Ill. — A new range of 0.95-mm height Sl...</td>\n      <td>lisle, ill. — a new range of 0.95-mm height sl...</td>\n    </tr>\n    <tr>\n      <th>4997</th>\n      <td>El Segundo, Calif. – International Rectifier's...</td>\n      <td>el segundo, calif. – international rectifier's...</td>\n    </tr>\n    <tr>\n      <th>4998</th>\n      <td>A handful of vendors banned together to addres...</td>\n      <td>a handful of vendors banned together to addres...</td>\n    </tr>\n    <tr>\n      <th>4999</th>\n      <td>TOKYO — Japanese chip making equipment vendor ...</td>\n      <td>tokyo — japanese chip making equipment vendor ...</td>\n    </tr>\n  </tbody>\n</table>\n<p>5000 rows × 2 columns</p>\n</div>"
     },
     "metadata": {},
     "execution_count": 17
    }
   ],
   "source": [
    "technology_dataset['preprocessed_body'] = technology_dataset['preprocessed_body'].str.lower()\n",
    "#x = technology_dataset['content'].isna()\n",
    "technology_dataset"
   ]
  },
  {
   "cell_type": "code",
   "execution_count": 18,
   "metadata": {},
   "outputs": [
    {
     "output_type": "execute_result",
     "data": {
      "text/plain": [
       "                                                   body  \\\n",
       "0     Finding an off-the-shelf processor that is an ...   \n",
       "1     SAN JOSE, Calif. — Fresh details have emerged ...   \n",
       "2     AUSTIN, Texas — The effort to develop a 157-nm...   \n",
       "3     The following sources offer additional informa...   \n",
       "4     As embedded systems and the microprocessor cor...   \n",
       "...                                                 ...   \n",
       "4995  Scottsdale, Ariz. — NKK Switches offers a new ...   \n",
       "4996  Lisle, Ill. — A new range of 0.95-mm height Sl...   \n",
       "4997  El Segundo, Calif. – International Rectifier's...   \n",
       "4998  A handful of vendors banned together to addres...   \n",
       "4999  TOKYO — Japanese chip making equipment vendor ...   \n",
       "\n",
       "                                      preprocessed_body  \n",
       "0     finding an offtheshelf processor that is an id...  \n",
       "1     san jose calif  fresh details have emerged abo...  \n",
       "2     austin texas  the effort to develop a nm litho...  \n",
       "3     the following sources offer additional informa...  \n",
       "4     as embedded systems and the microprocessor cor...  \n",
       "...                                                 ...  \n",
       "4995  scottsdale ariz  nkk switches offers a new ser...  \n",
       "4996  lisle ill  a new range of mm height slimstack ...  \n",
       "4997  el segundo calif  international rectifiers apu...  \n",
       "4998  a handful of vendors banned together to addres...  \n",
       "4999  tokyo  japanese chip making equipment vendor t...  \n",
       "\n",
       "[5000 rows x 2 columns]"
      ],
      "text/html": "<div>\n<style scoped>\n    .dataframe tbody tr th:only-of-type {\n        vertical-align: middle;\n    }\n\n    .dataframe tbody tr th {\n        vertical-align: top;\n    }\n\n    .dataframe thead th {\n        text-align: right;\n    }\n</style>\n<table border=\"1\" class=\"dataframe\">\n  <thead>\n    <tr style=\"text-align: right;\">\n      <th></th>\n      <th>body</th>\n      <th>preprocessed_body</th>\n    </tr>\n  </thead>\n  <tbody>\n    <tr>\n      <th>0</th>\n      <td>Finding an off-the-shelf processor that is an ...</td>\n      <td>finding an offtheshelf processor that is an id...</td>\n    </tr>\n    <tr>\n      <th>1</th>\n      <td>SAN JOSE, Calif. — Fresh details have emerged ...</td>\n      <td>san jose calif  fresh details have emerged abo...</td>\n    </tr>\n    <tr>\n      <th>2</th>\n      <td>AUSTIN, Texas — The effort to develop a 157-nm...</td>\n      <td>austin texas  the effort to develop a nm litho...</td>\n    </tr>\n    <tr>\n      <th>3</th>\n      <td>The following sources offer additional informa...</td>\n      <td>the following sources offer additional informa...</td>\n    </tr>\n    <tr>\n      <th>4</th>\n      <td>As embedded systems and the microprocessor cor...</td>\n      <td>as embedded systems and the microprocessor cor...</td>\n    </tr>\n    <tr>\n      <th>...</th>\n      <td>...</td>\n      <td>...</td>\n    </tr>\n    <tr>\n      <th>4995</th>\n      <td>Scottsdale, Ariz. — NKK Switches offers a new ...</td>\n      <td>scottsdale ariz  nkk switches offers a new ser...</td>\n    </tr>\n    <tr>\n      <th>4996</th>\n      <td>Lisle, Ill. — A new range of 0.95-mm height Sl...</td>\n      <td>lisle ill  a new range of mm height slimstack ...</td>\n    </tr>\n    <tr>\n      <th>4997</th>\n      <td>El Segundo, Calif. – International Rectifier's...</td>\n      <td>el segundo calif  international rectifiers apu...</td>\n    </tr>\n    <tr>\n      <th>4998</th>\n      <td>A handful of vendors banned together to addres...</td>\n      <td>a handful of vendors banned together to addres...</td>\n    </tr>\n    <tr>\n      <th>4999</th>\n      <td>TOKYO — Japanese chip making equipment vendor ...</td>\n      <td>tokyo  japanese chip making equipment vendor t...</td>\n    </tr>\n  </tbody>\n</table>\n<p>5000 rows × 2 columns</p>\n</div>"
     },
     "metadata": {},
     "execution_count": 18
    }
   ],
   "source": [
    "technology_dataset['preprocessed_body'] = technology_dataset['preprocessed_body'].str.replace('[^\\w\\s]','')\n",
    "technology_dataset['preprocessed_body'] = technology_dataset['preprocessed_body'].str.replace('[0-9]','')\n",
    "technology_dataset"
   ]
  },
  {
   "cell_type": "code",
   "execution_count": 19,
   "metadata": {},
   "outputs": [
    {
     "output_type": "execute_result",
     "data": {
      "text/plain": [
       "                                                   body  \\\n",
       "0     Finding an off-the-shelf processor that is an ...   \n",
       "1     SAN JOSE, Calif. — Fresh details have emerged ...   \n",
       "2     AUSTIN, Texas — The effort to develop a 157-nm...   \n",
       "3     The following sources offer additional informa...   \n",
       "4     As embedded systems and the microprocessor cor...   \n",
       "...                                                 ...   \n",
       "4995  Scottsdale, Ariz. — NKK Switches offers a new ...   \n",
       "4996  Lisle, Ill. — A new range of 0.95-mm height Sl...   \n",
       "4997  El Segundo, Calif. – International Rectifier's...   \n",
       "4998  A handful of vendors banned together to addres...   \n",
       "4999  TOKYO — Japanese chip making equipment vendor ...   \n",
       "\n",
       "                                      preprocessed_body  \n",
       "0     finding offtheshelf processor ideal fit applic...  \n",
       "1     san jose calif fresh details emerged second sp...  \n",
       "2     austin texas effort develop nm lithography sol...  \n",
       "3     following sources offer additional information...  \n",
       "4     embedded systems microprocessor cores based gr...  \n",
       "...                                                 ...  \n",
       "4995  scottsdale ariz nkk switches offers new series...  \n",
       "4996  lisle ill new range mm height slimstack connec...  \n",
       "4997  el segundo calif international rectifiers apu ...  \n",
       "4998  handful vendors banned together address intero...  \n",
       "4999  tokyo japanese chip making equipment vendor to...  \n",
       "\n",
       "[5000 rows x 2 columns]"
      ],
      "text/html": "<div>\n<style scoped>\n    .dataframe tbody tr th:only-of-type {\n        vertical-align: middle;\n    }\n\n    .dataframe tbody tr th {\n        vertical-align: top;\n    }\n\n    .dataframe thead th {\n        text-align: right;\n    }\n</style>\n<table border=\"1\" class=\"dataframe\">\n  <thead>\n    <tr style=\"text-align: right;\">\n      <th></th>\n      <th>body</th>\n      <th>preprocessed_body</th>\n    </tr>\n  </thead>\n  <tbody>\n    <tr>\n      <th>0</th>\n      <td>Finding an off-the-shelf processor that is an ...</td>\n      <td>finding offtheshelf processor ideal fit applic...</td>\n    </tr>\n    <tr>\n      <th>1</th>\n      <td>SAN JOSE, Calif. — Fresh details have emerged ...</td>\n      <td>san jose calif fresh details emerged second sp...</td>\n    </tr>\n    <tr>\n      <th>2</th>\n      <td>AUSTIN, Texas — The effort to develop a 157-nm...</td>\n      <td>austin texas effort develop nm lithography sol...</td>\n    </tr>\n    <tr>\n      <th>3</th>\n      <td>The following sources offer additional informa...</td>\n      <td>following sources offer additional information...</td>\n    </tr>\n    <tr>\n      <th>4</th>\n      <td>As embedded systems and the microprocessor cor...</td>\n      <td>embedded systems microprocessor cores based gr...</td>\n    </tr>\n    <tr>\n      <th>...</th>\n      <td>...</td>\n      <td>...</td>\n    </tr>\n    <tr>\n      <th>4995</th>\n      <td>Scottsdale, Ariz. — NKK Switches offers a new ...</td>\n      <td>scottsdale ariz nkk switches offers new series...</td>\n    </tr>\n    <tr>\n      <th>4996</th>\n      <td>Lisle, Ill. — A new range of 0.95-mm height Sl...</td>\n      <td>lisle ill new range mm height slimstack connec...</td>\n    </tr>\n    <tr>\n      <th>4997</th>\n      <td>El Segundo, Calif. – International Rectifier's...</td>\n      <td>el segundo calif international rectifiers apu ...</td>\n    </tr>\n    <tr>\n      <th>4998</th>\n      <td>A handful of vendors banned together to addres...</td>\n      <td>handful vendors banned together address intero...</td>\n    </tr>\n    <tr>\n      <th>4999</th>\n      <td>TOKYO — Japanese chip making equipment vendor ...</td>\n      <td>tokyo japanese chip making equipment vendor to...</td>\n    </tr>\n  </tbody>\n</table>\n<p>5000 rows × 2 columns</p>\n</div>"
     },
     "metadata": {},
     "execution_count": 19
    }
   ],
   "source": [
    "stop_words = set(stopwords.words('english'))\n",
    "technology_dataset['preprocessed_body'] = technology_dataset.apply(lambda row: nltk.word_tokenize(row['preprocessed_body']), axis=1)\n",
    "technology_dataset['preprocessed_body'] = technology_dataset['preprocessed_body'].apply(lambda x: ' '.join([word for word in x if word not in (stop_words)]))\n",
    "technology_dataset"
   ]
  },
  {
   "cell_type": "code",
   "execution_count": 14,
   "metadata": {},
   "outputs": [],
   "source": [
    "# technology_dataset['content'] = technology_dataset.apply(lambda row: nltk.word_tokenize(row['content']), axis=1)\n",
    "# technology_dataset"
   ]
  },
  {
   "cell_type": "code",
   "execution_count": 20,
   "metadata": {},
   "outputs": [
    {
     "output_type": "execute_result",
     "data": {
      "text/plain": [
       "                                                   body  \\\n",
       "0     Finding an off-the-shelf processor that is an ...   \n",
       "1     SAN JOSE, Calif. — Fresh details have emerged ...   \n",
       "2     AUSTIN, Texas — The effort to develop a 157-nm...   \n",
       "3     The following sources offer additional informa...   \n",
       "4     As embedded systems and the microprocessor cor...   \n",
       "...                                                 ...   \n",
       "4995  Scottsdale, Ariz. — NKK Switches offers a new ...   \n",
       "4996  Lisle, Ill. — A new range of 0.95-mm height Sl...   \n",
       "4997  El Segundo, Calif. – International Rectifier's...   \n",
       "4998  A handful of vendors banned together to addres...   \n",
       "4999  TOKYO — Japanese chip making equipment vendor ...   \n",
       "\n",
       "                                      preprocessed_body  \n",
       "0     finding offtheshelf processor ideal fit applic...  \n",
       "1     san jose calif fresh details emerged second sp...  \n",
       "2     austin texas effort develop nm lithography sol...  \n",
       "3     following sources offer additional information...  \n",
       "4     embedded systems microprocessor cores based gr...  \n",
       "...                                                 ...  \n",
       "4995  scottsdale ariz nkk switches offers new series...  \n",
       "4996  lisle ill new range mm height slimstack connec...  \n",
       "4997  el segundo calif international rectifiers apu ...  \n",
       "4998  handful vendors banned together address intero...  \n",
       "4999  tokyo japanese chip making equipment vendor to...  \n",
       "\n",
       "[5000 rows x 2 columns]"
      ],
      "text/html": "<div>\n<style scoped>\n    .dataframe tbody tr th:only-of-type {\n        vertical-align: middle;\n    }\n\n    .dataframe tbody tr th {\n        vertical-align: top;\n    }\n\n    .dataframe thead th {\n        text-align: right;\n    }\n</style>\n<table border=\"1\" class=\"dataframe\">\n  <thead>\n    <tr style=\"text-align: right;\">\n      <th></th>\n      <th>body</th>\n      <th>preprocessed_body</th>\n    </tr>\n  </thead>\n  <tbody>\n    <tr>\n      <th>0</th>\n      <td>Finding an off-the-shelf processor that is an ...</td>\n      <td>finding offtheshelf processor ideal fit applic...</td>\n    </tr>\n    <tr>\n      <th>1</th>\n      <td>SAN JOSE, Calif. — Fresh details have emerged ...</td>\n      <td>san jose calif fresh details emerged second sp...</td>\n    </tr>\n    <tr>\n      <th>2</th>\n      <td>AUSTIN, Texas — The effort to develop a 157-nm...</td>\n      <td>austin texas effort develop nm lithography sol...</td>\n    </tr>\n    <tr>\n      <th>3</th>\n      <td>The following sources offer additional informa...</td>\n      <td>following sources offer additional information...</td>\n    </tr>\n    <tr>\n      <th>4</th>\n      <td>As embedded systems and the microprocessor cor...</td>\n      <td>embedded systems microprocessor cores based gr...</td>\n    </tr>\n    <tr>\n      <th>...</th>\n      <td>...</td>\n      <td>...</td>\n    </tr>\n    <tr>\n      <th>4995</th>\n      <td>Scottsdale, Ariz. — NKK Switches offers a new ...</td>\n      <td>scottsdale ariz nkk switches offers new series...</td>\n    </tr>\n    <tr>\n      <th>4996</th>\n      <td>Lisle, Ill. — A new range of 0.95-mm height Sl...</td>\n      <td>lisle ill new range mm height slimstack connec...</td>\n    </tr>\n    <tr>\n      <th>4997</th>\n      <td>El Segundo, Calif. – International Rectifier's...</td>\n      <td>el segundo calif international rectifiers apu ...</td>\n    </tr>\n    <tr>\n      <th>4998</th>\n      <td>A handful of vendors banned together to addres...</td>\n      <td>handful vendors banned together address intero...</td>\n    </tr>\n    <tr>\n      <th>4999</th>\n      <td>TOKYO — Japanese chip making equipment vendor ...</td>\n      <td>tokyo japanese chip making equipment vendor to...</td>\n    </tr>\n  </tbody>\n</table>\n<p>5000 rows × 2 columns</p>\n</div>"
     },
     "metadata": {},
     "execution_count": 20
    }
   ],
   "source": [
    "technology_dataset"
   ]
  },
  {
   "cell_type": "code",
   "execution_count": 21,
   "metadata": {},
   "outputs": [
    {
     "output_type": "execute_result",
     "data": {
      "text/plain": [
       "                                                   body  \\\n",
       "0     New York Mayor Bill de Blasio is among those q...   \n",
       "1     A second patient has died of the COVID-19 viru...   \n",
       "2     England will formally register COVID-19, a dis...   \n",
       "3     Members of the Los Angeles Lakers are under qu...   \n",
       "4     Social media is awash with myths about how peo...   \n",
       "...                                                 ...   \n",
       "1004  As thousands of fans queued to get into the Au...   \n",
       "1005  Seven weeks after the first case of COVID-19 w...   \n",
       "1006  The government has a palette of options it can...   \n",
       "1007  Millions of face masks stockpiled by Ontario i...   \n",
       "1008  I was out to dinner in the medieval city of Pa...   \n",
       "\n",
       "                                      preprocessed_body  \n",
       "0     new york mayor bill de blasio among questionin...  \n",
       "1     second patient died covid virus ireland total ...  \n",
       "2     england formally register covid disease caused...  \n",
       "3     members los angeles lakers quarantine days tes...  \n",
       "4     social media awash myths people might stop new...  \n",
       "...                                                 ...  \n",
       "1004  thousands fans queued get australian grand pri...  \n",
       "1005           seven weeks first case covid confirmed u  \n",
       "1006  government palette options use shore economy i...  \n",
       "1007  millions face masks stockpiled ontario afterma...  \n",
       "1008  dinner medieval city padua text messages phone...  \n",
       "\n",
       "[1009 rows x 2 columns]"
      ],
      "text/html": "<div>\n<style scoped>\n    .dataframe tbody tr th:only-of-type {\n        vertical-align: middle;\n    }\n\n    .dataframe tbody tr th {\n        vertical-align: top;\n    }\n\n    .dataframe thead th {\n        text-align: right;\n    }\n</style>\n<table border=\"1\" class=\"dataframe\">\n  <thead>\n    <tr style=\"text-align: right;\">\n      <th></th>\n      <th>body</th>\n      <th>preprocessed_body</th>\n    </tr>\n  </thead>\n  <tbody>\n    <tr>\n      <th>0</th>\n      <td>New York Mayor Bill de Blasio is among those q...</td>\n      <td>new york mayor bill de blasio among questionin...</td>\n    </tr>\n    <tr>\n      <th>1</th>\n      <td>A second patient has died of the COVID-19 viru...</td>\n      <td>second patient died covid virus ireland total ...</td>\n    </tr>\n    <tr>\n      <th>2</th>\n      <td>England will formally register COVID-19, a dis...</td>\n      <td>england formally register covid disease caused...</td>\n    </tr>\n    <tr>\n      <th>3</th>\n      <td>Members of the Los Angeles Lakers are under qu...</td>\n      <td>members los angeles lakers quarantine days tes...</td>\n    </tr>\n    <tr>\n      <th>4</th>\n      <td>Social media is awash with myths about how peo...</td>\n      <td>social media awash myths people might stop new...</td>\n    </tr>\n    <tr>\n      <th>...</th>\n      <td>...</td>\n      <td>...</td>\n    </tr>\n    <tr>\n      <th>1004</th>\n      <td>As thousands of fans queued to get into the Au...</td>\n      <td>thousands fans queued get australian grand pri...</td>\n    </tr>\n    <tr>\n      <th>1005</th>\n      <td>Seven weeks after the first case of COVID-19 w...</td>\n      <td>seven weeks first case covid confirmed u</td>\n    </tr>\n    <tr>\n      <th>1006</th>\n      <td>The government has a palette of options it can...</td>\n      <td>government palette options use shore economy i...</td>\n    </tr>\n    <tr>\n      <th>1007</th>\n      <td>Millions of face masks stockpiled by Ontario i...</td>\n      <td>millions face masks stockpiled ontario afterma...</td>\n    </tr>\n    <tr>\n      <th>1008</th>\n      <td>I was out to dinner in the medieval city of Pa...</td>\n      <td>dinner medieval city padua text messages phone...</td>\n    </tr>\n  </tbody>\n</table>\n<p>1009 rows × 2 columns</p>\n</div>"
     },
     "metadata": {},
     "execution_count": 21
    }
   ],
   "source": [
    "medical_dataset"
   ]
  },
  {
   "cell_type": "markdown",
   "metadata": {},
   "source": [
    "# Combining 2 datasets"
   ]
  },
  {
   "cell_type": "code",
   "execution_count": 22,
   "metadata": {},
   "outputs": [],
   "source": [
    "dataset = pd.concat([medical_dataset, technology_dataset], ignore_index=True)"
   ]
  },
  {
   "cell_type": "code",
   "execution_count": 23,
   "metadata": {},
   "outputs": [],
   "source": [
    "dataset['preprocessed_body'] = dataset.apply(lambda row: nltk.word_tokenize(row['preprocessed_body']), axis=1)"
   ]
  },
  {
   "cell_type": "code",
   "execution_count": 24,
   "metadata": {},
   "outputs": [
    {
     "output_type": "execute_result",
     "data": {
      "text/plain": [
       "                                                   body  \\\n",
       "0     New York Mayor Bill de Blasio is among those q...   \n",
       "1     A second patient has died of the COVID-19 viru...   \n",
       "2     England will formally register COVID-19, a dis...   \n",
       "3     Members of the Los Angeles Lakers are under qu...   \n",
       "4     Social media is awash with myths about how peo...   \n",
       "...                                                 ...   \n",
       "6004  Scottsdale, Ariz. — NKK Switches offers a new ...   \n",
       "6005  Lisle, Ill. — A new range of 0.95-mm height Sl...   \n",
       "6006  El Segundo, Calif. – International Rectifier's...   \n",
       "6007  A handful of vendors banned together to addres...   \n",
       "6008  TOKYO — Japanese chip making equipment vendor ...   \n",
       "\n",
       "                                      preprocessed_body  \n",
       "0     [new, york, mayor, bill, de, blasio, among, qu...  \n",
       "1     [second, patient, died, covid, virus, ireland,...  \n",
       "2     [england, formally, register, covid, disease, ...  \n",
       "3     [members, los, angeles, lakers, quarantine, da...  \n",
       "4     [social, media, awash, myths, people, might, s...  \n",
       "...                                                 ...  \n",
       "6004  [scottsdale, ariz, nkk, switches, offers, new,...  \n",
       "6005  [lisle, ill, new, range, mm, height, slimstack...  \n",
       "6006  [el, segundo, calif, international, rectifiers...  \n",
       "6007  [handful, vendors, banned, together, address, ...  \n",
       "6008  [tokyo, japanese, chip, making, equipment, ven...  \n",
       "\n",
       "[6009 rows x 2 columns]"
      ],
      "text/html": "<div>\n<style scoped>\n    .dataframe tbody tr th:only-of-type {\n        vertical-align: middle;\n    }\n\n    .dataframe tbody tr th {\n        vertical-align: top;\n    }\n\n    .dataframe thead th {\n        text-align: right;\n    }\n</style>\n<table border=\"1\" class=\"dataframe\">\n  <thead>\n    <tr style=\"text-align: right;\">\n      <th></th>\n      <th>body</th>\n      <th>preprocessed_body</th>\n    </tr>\n  </thead>\n  <tbody>\n    <tr>\n      <th>0</th>\n      <td>New York Mayor Bill de Blasio is among those q...</td>\n      <td>[new, york, mayor, bill, de, blasio, among, qu...</td>\n    </tr>\n    <tr>\n      <th>1</th>\n      <td>A second patient has died of the COVID-19 viru...</td>\n      <td>[second, patient, died, covid, virus, ireland,...</td>\n    </tr>\n    <tr>\n      <th>2</th>\n      <td>England will formally register COVID-19, a dis...</td>\n      <td>[england, formally, register, covid, disease, ...</td>\n    </tr>\n    <tr>\n      <th>3</th>\n      <td>Members of the Los Angeles Lakers are under qu...</td>\n      <td>[members, los, angeles, lakers, quarantine, da...</td>\n    </tr>\n    <tr>\n      <th>4</th>\n      <td>Social media is awash with myths about how peo...</td>\n      <td>[social, media, awash, myths, people, might, s...</td>\n    </tr>\n    <tr>\n      <th>...</th>\n      <td>...</td>\n      <td>...</td>\n    </tr>\n    <tr>\n      <th>6004</th>\n      <td>Scottsdale, Ariz. — NKK Switches offers a new ...</td>\n      <td>[scottsdale, ariz, nkk, switches, offers, new,...</td>\n    </tr>\n    <tr>\n      <th>6005</th>\n      <td>Lisle, Ill. — A new range of 0.95-mm height Sl...</td>\n      <td>[lisle, ill, new, range, mm, height, slimstack...</td>\n    </tr>\n    <tr>\n      <th>6006</th>\n      <td>El Segundo, Calif. – International Rectifier's...</td>\n      <td>[el, segundo, calif, international, rectifiers...</td>\n    </tr>\n    <tr>\n      <th>6007</th>\n      <td>A handful of vendors banned together to addres...</td>\n      <td>[handful, vendors, banned, together, address, ...</td>\n    </tr>\n    <tr>\n      <th>6008</th>\n      <td>TOKYO — Japanese chip making equipment vendor ...</td>\n      <td>[tokyo, japanese, chip, making, equipment, ven...</td>\n    </tr>\n  </tbody>\n</table>\n<p>6009 rows × 2 columns</p>\n</div>"
     },
     "metadata": {},
     "execution_count": 24
    }
   ],
   "source": [
    "dataset"
   ]
  },
  {
   "cell_type": "markdown",
   "metadata": {},
   "source": [
    "# Document Ranking with TF-IDF and Cosine Similarity and Main Program"
   ]
  },
  {
   "source": [
    "Count document frequency of each vocabulary in our dataset."
   ],
   "cell_type": "markdown",
   "metadata": {}
  },
  {
   "cell_type": "code",
   "execution_count": 66,
   "metadata": {},
   "outputs": [],
   "source": [
    "DOC_COUNT = len(dataset)\n",
    "DF = {}\n",
    "\n",
    "for tokens in dataset[\"preprocessed_body\"]:\n",
    "    for tok in set(tokens):\n",
    "        try:\n",
    "            DF[tok] += 1\n",
    "        except:\n",
    "            DF[tok] = 1\n",
    "\n",
    "vocab = [x for x in DF]\n",
    "VOCAB_SIZE = len(DF)"
   ]
  },
  {
   "source": [
    "Calculate TF * IDF for each token in each document."
   ],
   "cell_type": "markdown",
   "metadata": {}
  },
  {
   "cell_type": "code",
   "execution_count": 74,
   "metadata": {
    "tags": []
   },
   "outputs": [],
   "source": [
    "tfidf_doc = np.zeros((DOC_COUNT, VOCAB_SIZE))\n",
    "\n",
    "for (idx, tokens) in enumerate(dataset[\"preprocessed_body\"]):\n",
    "    N_TOKENS = len(tokens)\n",
    "\n",
    "    counter = Counter(tokens)\n",
    "\n",
    "    for tok in set(tokens):\n",
    "        tf = counter[tok] / N_TOKENS\n",
    "        df = DF[tok]\n",
    "        idf = np.log(DOC_COUNT / (df + 1))\n",
    "\n",
    "        tfidf_doc[idx][vocab.index(tok)] = tf * idf"
   ]
  },
  {
   "cell_type": "code",
   "execution_count": 110,
   "metadata": {},
   "outputs": [],
   "source": [
    "# Export our document TF-IDF to a file so we don't have to calculate it every main program startup\n",
    "np.save(\"tfidf_doc.npy\", tfidf_doc)"
   ]
  },
  {
   "source": [
    "Create a function to return document frequency of a token (must return 0 if token not exist in the document, don't throw exception)"
   ],
   "cell_type": "markdown",
   "metadata": {}
  },
  {
   "cell_type": "code",
   "execution_count": 77,
   "metadata": {},
   "outputs": [],
   "source": [
    "def document_freq(token):\n",
    "    freq = 0\n",
    "    try:\n",
    "        freq = DF[token]\n",
    "    except: pass\n",
    "    return freq"
   ]
  },
  {
   "source": [
    "Create a function to vectorize the TF-IDF of our query. The vector is a 1D array that that has N column, where N is our vocabulary size."
   ],
   "cell_type": "markdown",
   "metadata": {}
  },
  {
   "cell_type": "code",
   "execution_count": 90,
   "metadata": {},
   "outputs": [],
   "source": [
    "def vectorize_query_tokens(query_tokens):\n",
    "    query_vec = np.zeros((VOCAB_SIZE))\n",
    "\n",
    "    token_counter = Counter(query_tokens)\n",
    "    N_TOKENS = len(query_tokens)\n",
    "    \n",
    "    # Calculate TF-IDF for each token in our query document\n",
    "    for tok in set(query_tokens):\n",
    "        tf = token_counter[tok] / N_TOKENS\n",
    "        df = document_freq(tok)\n",
    "        idf = np.log(DOC_COUNT / (df + 1))\n",
    "\n",
    "        # Get index of token in our vocabulary list\n",
    "        vocab_idx = vocab.index(tok)\n",
    "        query_vec[vocab_idx] = tf * idf\n",
    "\n",
    "    return query_vec"
   ]
  },
  {
   "cell_type": "code",
   "execution_count": 96,
   "metadata": {},
   "outputs": [],
   "source": [
    "def preprocess_query(query):\n",
    "    query = query.lower()\n",
    "    query = query.replace('[^\\w\\s]','')\n",
    "    query = query.replace('[0-9]','')\n",
    "    query_tokenized = nltk.word_tokenize(query)\n",
    "    query_tokenized = [t for t in query_tokenized if t not in stop_words]\n",
    "\n",
    "    return query_tokenized"
   ]
  },
  {
   "source": [
    "Calculate similarity between query and documents using Cosine Similarity\n",
    "\n",
    "`(A * B) / (normalized(A) * normalized(B))`"
   ],
   "cell_type": "markdown",
   "metadata": {}
  },
  {
   "cell_type": "code",
   "execution_count": 100,
   "metadata": {
    "tags": []
   },
   "outputs": [],
   "source": [
    "def cosine_similarity(n_docs, query):\n",
    "    print(\"Query: {}\\n\".format(query))\n",
    "\n",
    "    tokens = preprocess_query(query)\n",
    "    print(tokens)\n",
    "    print()\n",
    "\n",
    "    query_vec = vectorize_query_tokens(tokens)\n",
    "\n",
    "    rank = []\n",
    "\n",
    "    for doc in tfidf_doc:\n",
    "        cos_sim = np.dot(query_vec, doc) / (np.linalg.norm(query_vec) * np.linalg.norm(doc))\n",
    "        rank.append(cos_sim)\n",
    "\n",
    "    # Sort in descending order (most relevant to least relevant)\n",
    "    rank_sorted_desc = np.array(rank).argsort()[-n_docs:][::-1]\n",
    "\n",
    "    print(\"============================\")\n",
    "    print(\"Search result (Top {}):    \".format(n_docs))\n",
    "    print(\"============================\")\n",
    "    print()\n",
    "\n",
    "    for doc_idx in rank_sorted_desc:\n",
    "        print(\"Document #{}\".format(doc_idx))\n",
    "        print(dataset[\"body\"][doc_idx])\n",
    "        print(\"\\n==============================================================================\\n\")"
   ]
  },
  {
   "source": [
    "Main Search Engine Program"
   ],
   "cell_type": "markdown",
   "metadata": {}
  },
  {
   "cell_type": "code",
   "execution_count": 112,
   "metadata": {
    "tags": []
   },
   "outputs": [
    {
     "output_type": "stream",
     "name": "stdout",
     "text": [
      "Query: covid quarantine\n",
      "\n",
      "['covid', 'quarantine']\n",
      "\n",
      "============================\n",
      "Search result (Top 5):    \n",
      "============================\n",
      "\n",
      "Document #3\n",
      "Members of the Los Angeles Lakers are under quarantine for 14 days and will be tested for COVID-19, multiple media outlets reported Tuesday.\n",
      "\n",
      "==============================================================================\n",
      "\n",
      "Document #473\n",
      "Infectious disease and public health experts doubt the viability of plans by Italy's government to extend quarantine measures across the entire country, saying they are probably unsustainable, and unlikely to halt the spread of COVID-19.\n",
      "\n",
      "==============================================================================\n",
      "\n",
      "Document #267\n",
      "The companies, and other businesses, like Instacart, have also said they would compensate workers who contract the virus or are subject to quarantine orders.\n",
      "\n",
      "==============================================================================\n",
      "\n",
      "Document #327\n",
      "Seven weeks after the first case of COVID-19 was confirmed in the U.\n",
      "\n",
      "==============================================================================\n",
      "\n",
      "Document #513\n",
      "Seven weeks after the first case of COVID-19 was confirmed in the U.\n",
      "\n",
      "==============================================================================\n",
      "\n",
      "\n",
      "\n",
      "\n",
      "\n"
     ]
    },
    {
     "output_type": "error",
     "ename": "KeyboardInterrupt",
     "evalue": "",
     "traceback": [
      "\u001b[1;31m---------------------------------------------------------------------------\u001b[0m",
      "\u001b[1;31mKeyboardInterrupt\u001b[0m                         Traceback (most recent call last)",
      "\u001b[1;32mE:\\Anaconda3\\lib\\site-packages\\ipykernel\\kernelbase.py\u001b[0m in \u001b[0;36m_input_request\u001b[1;34m(self, prompt, ident, parent, password)\u001b[0m\n\u001b[0;32m    883\u001b[0m             \u001b[1;32mtry\u001b[0m\u001b[1;33m:\u001b[0m\u001b[1;33m\u001b[0m\u001b[1;33m\u001b[0m\u001b[0m\n\u001b[1;32m--> 884\u001b[1;33m                 \u001b[0mident\u001b[0m\u001b[1;33m,\u001b[0m \u001b[0mreply\u001b[0m \u001b[1;33m=\u001b[0m \u001b[0mself\u001b[0m\u001b[1;33m.\u001b[0m\u001b[0msession\u001b[0m\u001b[1;33m.\u001b[0m\u001b[0mrecv\u001b[0m\u001b[1;33m(\u001b[0m\u001b[0mself\u001b[0m\u001b[1;33m.\u001b[0m\u001b[0mstdin_socket\u001b[0m\u001b[1;33m,\u001b[0m \u001b[1;36m0\u001b[0m\u001b[1;33m)\u001b[0m\u001b[1;33m\u001b[0m\u001b[1;33m\u001b[0m\u001b[0m\n\u001b[0m\u001b[0;32m    885\u001b[0m             \u001b[1;32mexcept\u001b[0m \u001b[0mException\u001b[0m\u001b[1;33m:\u001b[0m\u001b[1;33m\u001b[0m\u001b[1;33m\u001b[0m\u001b[0m\n",
      "\u001b[1;32mE:\\Anaconda3\\lib\\site-packages\\jupyter_client\\session.py\u001b[0m in \u001b[0;36mrecv\u001b[1;34m(self, socket, mode, content, copy)\u001b[0m\n\u001b[0;32m    802\u001b[0m         \u001b[1;32mtry\u001b[0m\u001b[1;33m:\u001b[0m\u001b[1;33m\u001b[0m\u001b[1;33m\u001b[0m\u001b[0m\n\u001b[1;32m--> 803\u001b[1;33m             \u001b[0mmsg_list\u001b[0m \u001b[1;33m=\u001b[0m \u001b[0msocket\u001b[0m\u001b[1;33m.\u001b[0m\u001b[0mrecv_multipart\u001b[0m\u001b[1;33m(\u001b[0m\u001b[0mmode\u001b[0m\u001b[1;33m,\u001b[0m \u001b[0mcopy\u001b[0m\u001b[1;33m=\u001b[0m\u001b[0mcopy\u001b[0m\u001b[1;33m)\u001b[0m\u001b[1;33m\u001b[0m\u001b[1;33m\u001b[0m\u001b[0m\n\u001b[0m\u001b[0;32m    804\u001b[0m         \u001b[1;32mexcept\u001b[0m \u001b[0mzmq\u001b[0m\u001b[1;33m.\u001b[0m\u001b[0mZMQError\u001b[0m \u001b[1;32mas\u001b[0m \u001b[0me\u001b[0m\u001b[1;33m:\u001b[0m\u001b[1;33m\u001b[0m\u001b[1;33m\u001b[0m\u001b[0m\n",
      "\u001b[1;32mE:\\Anaconda3\\lib\\site-packages\\zmq\\sugar\\socket.py\u001b[0m in \u001b[0;36mrecv_multipart\u001b[1;34m(self, flags, copy, track)\u001b[0m\n\u001b[0;32m    474\u001b[0m         \"\"\"\n\u001b[1;32m--> 475\u001b[1;33m         \u001b[0mparts\u001b[0m \u001b[1;33m=\u001b[0m \u001b[1;33m[\u001b[0m\u001b[0mself\u001b[0m\u001b[1;33m.\u001b[0m\u001b[0mrecv\u001b[0m\u001b[1;33m(\u001b[0m\u001b[0mflags\u001b[0m\u001b[1;33m,\u001b[0m \u001b[0mcopy\u001b[0m\u001b[1;33m=\u001b[0m\u001b[0mcopy\u001b[0m\u001b[1;33m,\u001b[0m \u001b[0mtrack\u001b[0m\u001b[1;33m=\u001b[0m\u001b[0mtrack\u001b[0m\u001b[1;33m)\u001b[0m\u001b[1;33m]\u001b[0m\u001b[1;33m\u001b[0m\u001b[1;33m\u001b[0m\u001b[0m\n\u001b[0m\u001b[0;32m    476\u001b[0m         \u001b[1;31m# have first part already, only loop while more to receive\u001b[0m\u001b[1;33m\u001b[0m\u001b[1;33m\u001b[0m\u001b[1;33m\u001b[0m\u001b[0m\n",
      "\u001b[1;32mzmq/backend/cython/socket.pyx\u001b[0m in \u001b[0;36mzmq.backend.cython.socket.Socket.recv\u001b[1;34m()\u001b[0m\n",
      "\u001b[1;32mzmq/backend/cython/socket.pyx\u001b[0m in \u001b[0;36mzmq.backend.cython.socket.Socket.recv\u001b[1;34m()\u001b[0m\n",
      "\u001b[1;32mzmq/backend/cython/socket.pyx\u001b[0m in \u001b[0;36mzmq.backend.cython.socket._recv_copy\u001b[1;34m()\u001b[0m\n",
      "\u001b[1;32mE:\\Anaconda3\\lib\\site-packages\\zmq\\backend\\cython\\checkrc.pxd\u001b[0m in \u001b[0;36mzmq.backend.cython.checkrc._check_rc\u001b[1;34m()\u001b[0m\n",
      "\u001b[1;31mKeyboardInterrupt\u001b[0m: ",
      "\nDuring handling of the above exception, another exception occurred:\n",
      "\u001b[1;31mKeyboardInterrupt\u001b[0m                         Traceback (most recent call last)",
      "\u001b[1;32m<ipython-input-112-900f1d8b454f>\u001b[0m in \u001b[0;36m<module>\u001b[1;34m\u001b[0m\n\u001b[0;32m      1\u001b[0m \u001b[1;32mwhile\u001b[0m\u001b[1;33m(\u001b[0m\u001b[1;32mTrue\u001b[0m\u001b[1;33m)\u001b[0m\u001b[1;33m:\u001b[0m\u001b[1;33m\u001b[0m\u001b[1;33m\u001b[0m\u001b[0m\n\u001b[1;32m----> 2\u001b[1;33m         \u001b[0mquery\u001b[0m \u001b[1;33m=\u001b[0m \u001b[0minput\u001b[0m\u001b[1;33m(\u001b[0m\u001b[1;34m\"Input your search query >> \"\u001b[0m\u001b[1;33m)\u001b[0m\u001b[1;33m\u001b[0m\u001b[1;33m\u001b[0m\u001b[0m\n\u001b[0m\u001b[0;32m      3\u001b[0m         \u001b[0mcosine_similarity\u001b[0m\u001b[1;33m(\u001b[0m\u001b[0mn_docs\u001b[0m\u001b[1;33m=\u001b[0m\u001b[1;36m5\u001b[0m\u001b[1;33m,\u001b[0m \u001b[0mquery\u001b[0m\u001b[1;33m=\u001b[0m\u001b[0mquery\u001b[0m\u001b[1;33m)\u001b[0m\u001b[1;33m\u001b[0m\u001b[1;33m\u001b[0m\u001b[0m\n\u001b[0;32m      4\u001b[0m         \u001b[0mprint\u001b[0m\u001b[1;33m(\u001b[0m\u001b[1;34m\"\\n\\n\\n\"\u001b[0m\u001b[1;33m)\u001b[0m\u001b[1;33m\u001b[0m\u001b[1;33m\u001b[0m\u001b[0m\n",
      "\u001b[1;32mE:\\Anaconda3\\lib\\site-packages\\ipykernel\\kernelbase.py\u001b[0m in \u001b[0;36mraw_input\u001b[1;34m(self, prompt)\u001b[0m\n\u001b[0;32m    857\u001b[0m             \u001b[0mself\u001b[0m\u001b[1;33m.\u001b[0m\u001b[0m_parent_ident\u001b[0m\u001b[1;33m,\u001b[0m\u001b[1;33m\u001b[0m\u001b[1;33m\u001b[0m\u001b[0m\n\u001b[0;32m    858\u001b[0m             \u001b[0mself\u001b[0m\u001b[1;33m.\u001b[0m\u001b[0m_parent_header\u001b[0m\u001b[1;33m,\u001b[0m\u001b[1;33m\u001b[0m\u001b[1;33m\u001b[0m\u001b[0m\n\u001b[1;32m--> 859\u001b[1;33m             \u001b[0mpassword\u001b[0m\u001b[1;33m=\u001b[0m\u001b[1;32mFalse\u001b[0m\u001b[1;33m,\u001b[0m\u001b[1;33m\u001b[0m\u001b[1;33m\u001b[0m\u001b[0m\n\u001b[0m\u001b[0;32m    860\u001b[0m         )\n\u001b[0;32m    861\u001b[0m \u001b[1;33m\u001b[0m\u001b[0m\n",
      "\u001b[1;32mE:\\Anaconda3\\lib\\site-packages\\ipykernel\\kernelbase.py\u001b[0m in \u001b[0;36m_input_request\u001b[1;34m(self, prompt, ident, parent, password)\u001b[0m\n\u001b[0;32m    887\u001b[0m             \u001b[1;32mexcept\u001b[0m \u001b[0mKeyboardInterrupt\u001b[0m\u001b[1;33m:\u001b[0m\u001b[1;33m\u001b[0m\u001b[1;33m\u001b[0m\u001b[0m\n\u001b[0;32m    888\u001b[0m                 \u001b[1;31m# re-raise KeyboardInterrupt, to truncate traceback\u001b[0m\u001b[1;33m\u001b[0m\u001b[1;33m\u001b[0m\u001b[1;33m\u001b[0m\u001b[0m\n\u001b[1;32m--> 889\u001b[1;33m                 \u001b[1;32mraise\u001b[0m \u001b[0mKeyboardInterrupt\u001b[0m\u001b[1;33m\u001b[0m\u001b[1;33m\u001b[0m\u001b[0m\n\u001b[0m\u001b[0;32m    890\u001b[0m             \u001b[1;32melse\u001b[0m\u001b[1;33m:\u001b[0m\u001b[1;33m\u001b[0m\u001b[1;33m\u001b[0m\u001b[0m\n\u001b[0;32m    891\u001b[0m                 \u001b[1;32mbreak\u001b[0m\u001b[1;33m\u001b[0m\u001b[1;33m\u001b[0m\u001b[0m\n",
      "\u001b[1;31mKeyboardInterrupt\u001b[0m: "
     ]
    }
   ],
   "source": [
    "while(True):\n",
    "        query = input(\"Input your search query >> \")\n",
    "        cosine_similarity(n_docs=5, query=query)\n",
    "        print(\"\\n\\n\\n\")"
   ]
  }
 ],
 "metadata": {
  "kernelspec": {
   "display_name": "Python 3",
   "language": "python",
   "name": "python3"
  },
  "language_info": {
   "codemirror_mode": {
    "name": "ipython",
    "version": 3
   },
   "file_extension": ".py",
   "mimetype": "text/x-python",
   "name": "python",
   "nbconvert_exporter": "python",
   "pygments_lexer": "ipython3",
   "version": "3.7.6-final"
  }
 },
 "nbformat": 4,
 "nbformat_minor": 4
}